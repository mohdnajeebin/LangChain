{
 "cells": [
  {
   "cell_type": "markdown",
   "metadata": {},
   "source": [
    "HTMLHeaderTextSplitter is a \"structure-aware\" chunker that splits text at the HTML element level and adds metadata for each header \"relevant\" to any given chunk. It can return chunks element by element or combine elements with the same metadata, with the objective of (a) keeping related text grouped (more or less) semantically and (b) preserving context-rich information encoded in document structures. It can be used with other text splitters as part of a chunking pipeline."
   ]
  },
  {
   "cell_type": "code",
   "execution_count": 4,
   "metadata": {},
   "outputs": [
    {
     "data": {
      "text/plain": [
       "[Document(metadata={'Header 1': 'Welcome to My Webpage', 'Header 2': 'About Me'}, page_content=\"Hello! My name is Najeeb, and I'm passionate about technology and design.\"),\n",
       " Document(metadata={'Header 1': 'Welcome to My Webpage', 'Header 2': 'Hobbies'}, page_content='I have several hobbies that I enjoy in my free time:  \\nCoding Reading Books Traveling Photography'),\n",
       " Document(metadata={'Header 1': 'Welcome to My Webpage', 'Header 2': 'Contact'}, page_content=\"If you'd like to get in touch, feel free to reach out via email!\")]"
      ]
     },
     "execution_count": 4,
     "metadata": {},
     "output_type": "execute_result"
    }
   ],
   "source": [
    "from langchain_text_splitters import HTMLHeaderTextSplitter\n",
    "\n",
    "html_string = \"\"\"\n",
    "<!DOCTYPE html>\n",
    "<html lang=\"en\">\n",
    "<body>\n",
    "\n",
    "    <h1>Welcome to My Webpage</h1>\n",
    "    \n",
    "    <h2>About Me</h2>\n",
    "    <p>Hello! My name is Najeeb, and I'm passionate about technology and design.</p>\n",
    "\n",
    "    <h2>Hobbies</h2>\n",
    "    <div>\n",
    "        <p>I have several hobbies that I enjoy in my free time:</p>\n",
    "        <ul>\n",
    "            <li>Coding</li>\n",
    "            <li>Reading Books</li>\n",
    "            <li>Traveling</li>\n",
    "            <li>Photography</li>\n",
    "        </ul>\n",
    "    </div>\n",
    "\n",
    "    <h2>Contact</h2>\n",
    "    <p>If you'd like to get in touch, feel free to reach out via email!</p>\n",
    "\n",
    "</body>\n",
    "</html>\n",
    "\"\"\"\n",
    "\n",
    "headers_to_split_on = [\n",
    "    (\"h1\", \"Header 1\"),\n",
    "    (\"h2\", \"Header 2\")\n",
    "]\n",
    "\n",
    "html_splitter = HTMLHeaderTextSplitter(headers_to_split_on)\n",
    "html_header_splits = html_splitter.split_text(html_string)\n",
    "html_header_splits"
   ]
  },
  {
   "cell_type": "code",
   "execution_count": 5,
   "metadata": {},
   "outputs": [
    {
     "data": {
      "text/plain": [
       "[Document(metadata={}, page_content=\"Stanford Encyclopedia of Philosophy  \\nMenu  \\nBrowse About Support SEP  \\nTable of Contents What's New Random Entry Chronological Archives  \\nEditorial Information About the SEP Editorial Board How to Cite the SEP Special Characters Advanced Tools Contact  \\nSupport the SEP PDFs for SEP Friends Make a Donation SEPIA for Libraries  \\nSearch Search Tips  \\nBrowse\"),\n",
       " Document(metadata={'Header 2': 'Browse'}, page_content=\"Table of Contents  \\nWhat's New Archives Random Entry\"),\n",
       " Document(metadata={}, page_content='The Stanford Encyclopedia of Philosophy organizes scholars from around the world in philosophy and related disciplines to create and maintain an up-to-date reference work.  \\nCo-Principal Editors: Edward N. Zalta and Uri Nodelman  \\nMasthead | Editorial Board  \\nCurrent Operations Are Supported By:'),\n",
       " Document(metadata={'Header 4': 'Current Operations Are Supported By:'}, page_content='The Offices of the Provost, the Dean of Humanities and Sciences, and the Dean of Research, Stanford University The SEP Library Fund: containing contributions from the National Endowment for the Humanities and the membership dues of academic libraries that have joined SEPIA. The John Perry Fund and The SEP Fund: containing contributions from individual donors. The O.C. Tanner SEP Fund: containing a gift from the O.C. Tanner Company. The Friends of the SEP Society Fund: containing membership dues from individuals who have joined the Friends of the SEP Society to obtain such member benefits as nicely formatted PDF versions of SEP entries.  \\nThe SEP gratefully acknowledges founding support from the National Endowment for the Humanities, the National Science Foundation, The American Philosophical Association/Pacific Division, The Canadian Philosophical Association, and the Philosophy Documentation Center. Fundraising efforts were supported by a grant from The William and Flora Hewlett Foundation.'),\n",
       " Document(metadata={}, page_content='Browse'),\n",
       " Document(metadata={'Header 4': 'Browse'}, page_content=\"Table of Contents What's New Random Entry Chronological Archives\"),\n",
       " Document(metadata={}, page_content='About'),\n",
       " Document(metadata={'Header 4': 'About'}, page_content='Editorial Information About the SEP Editorial Board How to Cite the SEP Special Characters Advanced Tools Accessibility Contact'),\n",
       " Document(metadata={}, page_content='Support SEP'),\n",
       " Document(metadata={'Header 4': 'Support SEP'}, page_content='Support the SEP PDFs for SEP Friends Make a Donation SEPIA for Libraries'),\n",
       " Document(metadata={}, page_content='Mirror Sites'),\n",
       " Document(metadata={'Header 4': 'Mirror Sites'}, page_content='View this site from another server:'),\n",
       " Document(metadata={}, page_content='USA (Main Site) Philosophy, Stanford University  \\nInfo about mirror sites  \\nThe Stanford Encyclopedia of Philosophy is copyright © 2024 by The Metaphysics Research Lab, Department of Philosophy, Stanford University  \\nLibrary of Congress Catalog Data: ISSN 1095-5054')]"
      ]
     },
     "execution_count": 5,
     "metadata": {},
     "output_type": "execute_result"
    }
   ],
   "source": [
    "url = \"https://plato.stanford.edu/\"\n",
    "\n",
    "headers_to_split_on = [\n",
    "    (\"h1\", \"Header 1\"),\n",
    "    (\"h2\", \"Header 2\"),\n",
    "    (\"h3\", \"Header 3\"),\n",
    "    (\"h4\", \"Header 4\"),\n",
    "]\n",
    "html_splitter = HTMLHeaderTextSplitter(headers_to_split_on)\n",
    "html_header_splits = html_splitter.split_text_from_url(url)\n",
    "html_header_splits"
   ]
  },
  {
   "cell_type": "code",
   "execution_count": null,
   "metadata": {},
   "outputs": [],
   "source": []
  }
 ],
 "metadata": {
  "kernelspec": {
   "display_name": "myenv",
   "language": "python",
   "name": "python3"
  },
  "language_info": {
   "codemirror_mode": {
    "name": "ipython",
    "version": 3
   },
   "file_extension": ".py",
   "mimetype": "text/x-python",
   "name": "python",
   "nbconvert_exporter": "python",
   "pygments_lexer": "ipython3",
   "version": "3.10.7"
  }
 },
 "nbformat": 4,
 "nbformat_minor": 2
}
